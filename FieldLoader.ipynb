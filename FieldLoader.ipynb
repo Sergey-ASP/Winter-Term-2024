version https://git-lfs.github.com/spec/v1
oid sha256:66dbbe2e5bfb2ccaa485d41c4de5330f49fc40d08f0c2f39bb74b72ec8b1fe70
size 13042
