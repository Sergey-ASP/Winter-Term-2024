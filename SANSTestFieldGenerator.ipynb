{
 "cells": [
  {
   "cell_type": "code",
   "execution_count": 2,
   "id": "237a74ca-058c-4540-bc64-a293a8516416",
   "metadata": {},
   "outputs": [
    {
     "name": "stdout",
     "output_type": "stream",
     "text": [
      "Running OOMMF (ExeOOMMFRunner)[2024/01/05 15:55]... (51.9 s)\n",
      "done\n"
     ]
    }
   ],
   "source": [
    "import discretisedfield as df\n",
    "import micromagneticmodel as mm\n",
    "import numpy as np\n",
    "import oommfc as oc\n",
    "import ubermagutil.units as uu\n",
    "\n",
    "np.random.seed(1)\n",
    "\n",
    "region = df.Region(p1=(-160e-9, -160e-9, 0), p2=(160e-9, 160e-9, 20e-9))\n",
    "mesh = df.Mesh(region=region, cell=(5e-9, 5e-9, 5e-9), bc=\"xyz\")\n",
    "\n",
    "system = mm.System(name=\"Box2\")\n",
    "\n",
    "system.energy = (\n",
    "    mm.Exchange(A=1.6e-11) + mm.DMI(D=4e-3, crystalclass=\"T\") + mm.Zeeman(H=(0, 0, 2e5))\n",
    ")\n",
    "\n",
    "Ms = 1.1e6\n",
    "\n",
    "\n",
    "def m_fun(pos):\n",
    "    return 2 * np.random.rand(3) - 1\n",
    "\n",
    "\n",
    "# create system with above geometry and initial magnetisation\n",
    "system.m = df.Field(mesh, nvdim=3, value=m_fun, norm=Ms)\n",
    "\n",
    "# minimize the energy\n",
    "md = oc.MinDriver()\n",
    "md.drive(system)\n",
    "\n",
    "system.m.to_file('testData.hdf5')\n",
    "print('done')\n"
   ]
  },
  {
   "cell_type": "code",
   "execution_count": null,
   "id": "46926061-cbb0-4eeb-99b7-839402c77a77",
   "metadata": {},
   "outputs": [],
   "source": []
  }
 ],
 "metadata": {
  "kernelspec": {
   "display_name": "Python 3 (ipykernel)",
   "language": "python",
   "name": "python3"
  },
  "language_info": {
   "codemirror_mode": {
    "name": "ipython",
    "version": 3
   },
   "file_extension": ".py",
   "mimetype": "text/x-python",
   "name": "python",
   "nbconvert_exporter": "python",
   "pygments_lexer": "ipython3",
   "version": "3.11.3"
  }
 },
 "nbformat": 4,
 "nbformat_minor": 5
}
