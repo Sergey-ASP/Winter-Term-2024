version https://git-lfs.github.com/spec/v1
oid sha256:229da70695ec96ebf6a9dc0c845222de95c4c343cbcb9c69e05bcfea4aa58b10
size 1992
