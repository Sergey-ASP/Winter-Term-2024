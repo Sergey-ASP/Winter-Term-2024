version https://git-lfs.github.com/spec/v1
oid sha256:42d6b2571923f50eb24c9551e6f00157c0a934b79686d2b38cf4280ee456a864
size 666686
